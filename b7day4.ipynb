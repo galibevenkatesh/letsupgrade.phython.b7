{
 "cells": [
  {
   "cell_type": "markdown",
   "metadata": {},
   "source": [
    "#  day 4 assignment"
   ]
  },
  {
   "cell_type": "code",
   "execution_count": 1,
   "metadata": {},
   "outputs": [],
   "source": [
    "# armstrong number between 1042000 to 702648265"
   ]
  },
  {
   "cell_type": "code",
   "execution_count": 1,
   "metadata": {},
   "outputs": [
    {
     "name": "stdout",
     "output_type": "stream",
     "text": [
      "1741725 is an Armstrong number\n"
     ]
    }
   ],
   "source": [
    "for num in range(1042000,702648265):\n",
    "    if num>100000000:\n",
    "        \n",
    "        i=9\n",
    "    elif num>10000000:\n",
    "            i=8\n",
    "    elif num>1000000:\n",
    "            i=7    \n",
    "        \n",
    "    sum = 0\n",
    "    temp = num\n",
    "    while temp > 0:\n",
    "        digit = temp % 10\n",
    "        sum += digit ** i\n",
    "        temp //= 10\n",
    "\n",
    "\n",
    "    if num == sum:\n",
    "        print(num,\"is an Armstrong number\")\n",
    "        break\n",
    "\n",
    "\n",
    "\n",
    "       \n",
    "   \n",
    "\n"
   ]
  },
  {
   "cell_type": "code",
   "execution_count": null,
   "metadata": {},
   "outputs": [],
   "source": []
  },
  {
   "cell_type": "code",
   "execution_count": null,
   "metadata": {},
   "outputs": [],
   "source": []
  },
  {
   "cell_type": "code",
   "execution_count": null,
   "metadata": {},
   "outputs": [],
   "source": []
  },
  {
   "cell_type": "code",
   "execution_count": null,
   "metadata": {},
   "outputs": [],
   "source": []
  }
 ],
 "metadata": {
  "kernelspec": {
   "display_name": "Python 3",
   "language": "python",
   "name": "python3"
  },
  "language_info": {
   "codemirror_mode": {
    "name": "ipython",
    "version": 3
   },
   "file_extension": ".py",
   "mimetype": "text/x-python",
   "name": "python",
   "nbconvert_exporter": "python",
   "pygments_lexer": "ipython3",
   "version": "3.8.3"
  }
 },
 "nbformat": 4,
 "nbformat_minor": 4
}
